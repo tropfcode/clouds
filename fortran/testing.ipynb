{
 "cells": [
  {
   "cell_type": "code",
   "execution_count": 1,
   "metadata": {},
   "outputs": [
    {
     "name": "stdout",
     "output_type": "stream",
     "text": [
      "Using matplotlib backend: Qt5Agg\n"
     ]
    }
   ],
   "source": [
    "#import functions as func\n",
    "import netCDF4\n",
    "import numpy as np\n",
    "import matplotlib.pyplot as plt\n",
    "import os\n",
    "import matplotlib as mpl\n",
    "import matplotlib.colors as colors\n",
    "import time\n",
    "import math\n",
    "from matplotlib.widgets import Slider, Button, RadioButtons\n",
    "#from SlideView import SlideView\n",
    "import seaborn as sns\n",
    "import time\n",
    "import locale\n",
    "import analysis\n",
    "#%matplotlib"
   ]
  },
  {
   "cell_type": "code",
   "execution_count": 3,
   "metadata": {},
   "outputs": [],
   "source": [
    "# Loading weather state data (histograms)\n",
    "pctaulist = []\n",
    "tmphist = []\n",
    "count = 0\n",
    "with open('../code/pc_tau_oldData.txt') as pctauf:\n",
    "    for line in pctauf:\n",
    "        for value in line.split():\n",
    "            tmphist.append(float(value))\n",
    "            count += 1\n",
    "        if count == 42:\n",
    "            count = 0 \n",
    "            pctaulist.append(np.asarray(tmphist).reshape(7, 6))\n",
    "            tmphist = []\n",
    "\n",
    "pctau_histograms = np.asarray(pctaulist)\n",
    "\n",
    "# Transform pctau_histograms to tau_pc to match pctaudist (matrix transpose)\n",
    "taupc_histograms = np.copy(pctau_histograms).reshape((12, 6, 7))\n",
    "for i in range(pctau_histograms.shape[0]):\n",
    "    taupc_histograms[i,:,:] = pctau_histograms[i,:,:].T\n",
    "    \n",
    "taupc_histograms = taupc_histograms.astype(np.float32)"
   ]
  },
  {
   "cell_type": "code",
   "execution_count": 9,
   "metadata": {},
   "outputs": [],
   "source": [
    "# Loading file from harddrive\n",
    "f = netCDF4.Dataset('/home/derektropf/Documents/NASA/code/ISCCP_HSeries_HGG_v01r00_198307_c20170705/ISCCP.HGG.v01r00.GLOBAL.1983.07.01.0000.GPC.10KM.CS00.EQ1.00.nc')\n",
    "pctaudist = f['n_pctaudist']\n",
    "sqlon_beg = f['sqlon_beg']\n",
    "sqlon_end = f['sqlon_end']\n",
    "eqlat = f['eqlat_index']\n",
    "ntotal = f['n_total']"
   ]
  },
  {
   "cell_type": "code",
   "execution_count": 4,
   "metadata": {},
   "outputs": [
    {
     "name": "stdout",
     "output_type": "stream",
     "text": [
      "('this is f1', 'ISCCP_HSeries_HGG_v01r00_198501_c20170621')\n",
      "('run time for entire month ', 80.34166502952576)\n",
      "('this is f1', 'ISCCP_HSeries_HGG_v01r00_198502_c20170621')\n",
      "('run time for entire month ', 77.31749105453491)\n",
      "('this is f1', 'ISCCP_HSeries_HGG_v01r00_198503_c20170621')\n",
      "('run time for entire month ', 84.92647194862366)\n",
      "('this is f1', 'ISCCP_HSeries_HGG_v01r00_198504_c20170621')\n",
      "('run time for entire month ', 82.06987690925598)\n",
      "('this is f1', 'ISCCP_HSeries_HGG_v01r00_198505_c20170621')\n",
      "('run time for entire month ', 87.26073098182678)\n",
      "('this is f1', 'ISCCP_HSeries_HGG_v01r00_198506_c20170621')\n",
      "('run time for entire month ', 83.2678451538086)\n",
      "('this is f1', 'ISCCP_HSeries_HGG_v01r00_198507_c20170621')\n",
      "('run time for entire month ', 81.46025085449219)\n",
      "('this is f1', 'ISCCP_HSeries_HGG_v01r00_198508_c20170621')\n",
      "('run time for entire month ', 81.62223100662231)\n",
      "('this is f1', 'ISCCP_HSeries_HGG_v01r00_198509_c20170621')\n",
      "('run time for entire month ', 82.56855416297913)\n",
      "('this is f1', 'ISCCP_HSeries_HGG_v01r00_198510_c20170621')\n",
      "('run time for entire month ', 79.68407702445984)\n",
      "('this is f1', 'ISCCP_HSeries_HGG_v01r00_198511_c20170621')\n",
      "('run time for entire month ', 82.5358099937439)\n",
      "('this is f1', 'ISCCP_HSeries_HGG_v01r00_198512_c20170621')\n",
      "('run time for entire month ', 89.62515091896057)\n"
     ]
    }
   ],
   "source": [
    "wsnums = np.zeros((360, 180, 12))\n",
    "wscount = np.zeros((360, 180))\n",
    "masks = np.zeros((6, 7, 41252), dtype=bool)\n",
    "#basepath = '/home/derektropf/Documents/NASA/code/ISCCP_HSeries_HGG_v01r00_198307_c20170705'\n",
    "#fullpath = '/home/derektropf/Documents/NASA/code/ISCCP_HSeries_HGG_v01r00_198307_c20170705/ISCCP.HGG.v01r00.GLOBAL.1983.07.01.0000.GPC.10KM.CS00.EQ1.00.nc'\n",
    "basepath = '/media/derektropf/My Passport/hggdata/'\n",
    "for f1 in sorted(os.listdir(basepath)):\n",
    "    t1 = time.time()\n",
    "    print('this is f1', f1)\n",
    "    for f2 in sorted(os.listdir(basepath+f1+'/')):\n",
    "        #print('this is f2', f2)\n",
    "        #fullpath = basepath+'/'+f\n",
    "        fullpath = basepath+f1+'/'+f2\n",
    "        data = netCDF4.Dataset(fullpath)\n",
    "        pctaudist = data['n_pctaudist']\n",
    "        sqlonbeg = data['sqlon_beg'][:]\n",
    "        sqlonend = data['sqlon_end'][:]\n",
    "        eqlat = data['eqlat_index'][:]\n",
    "        ntotal = data['n_total'][:]\n",
    "        masks[:,:,:] = np.ma.getmaskarray(pctaudist[:,:,:])\n",
    "        pctaudistnorm = analysis.fnorm(pctaudist[:,:,:], ntotal[:], masks[:,:,:])\n",
    "        histograms = taupc_histograms\n",
    "        wsnums, wscount = analysis.findws(pctaudistnorm[:,:,:], histograms[:,:,:]/100.0, masks[:,:,:], \n",
    "                                            wsnums[:,:], wscount[:], sqlonbeg[:], sqlonend[:], eqlat[:])\n",
    "    t2 = time.time()\n",
    "    print('run time for entire month ', t2-t1)"
   ]
  },
  {
   "cell_type": "code",
   "execution_count": 37,
   "metadata": {},
   "outputs": [],
   "source": [
    "w = np.where(wscount<=0)\n",
    "mask = np.zeros((360, 180))\n",
    "for point in zip(w[0], w[1]):\n",
    "    mask[point[0], point[1]] = 1\n",
    "arr = np.ma.array(wsnums[:,:,6], mask=mask, dtype=float)"
   ]
  },
  {
   "cell_type": "code",
   "execution_count": 38,
   "metadata": {},
   "outputs": [
    {
     "data": {
      "text/plain": [
       "<matplotlib.axes._subplots.AxesSubplot at 0x7fa89cb2b850>"
      ]
     },
     "execution_count": 38,
     "metadata": {},
     "output_type": "execute_result"
    }
   ],
   "source": [
    "fig, ax = plt.subplots()\n",
    "sns.heatmap(np.flipud((arr/wscount).T))"
   ]
  },
  {
   "cell_type": "code",
   "execution_count": 23,
   "metadata": {},
   "outputs": [
    {
     "data": {
      "text/plain": [
       "<matplotlib.axes._subplots.AxesSubplot at 0x7fa8b41e5310>"
      ]
     },
     "execution_count": 23,
     "metadata": {},
     "output_type": "execute_result"
    }
   ],
   "source": [
    "sns.heatmap(np.flipud(wscount[:,:].T))"
   ]
  },
  {
   "cell_type": "code",
   "execution_count": null,
   "metadata": {},
   "outputs": [],
   "source": []
  }
 ],
 "metadata": {
  "kernelspec": {
   "display_name": "Python [default]",
   "language": "python",
   "name": "python2"
  },
  "language_info": {
   "codemirror_mode": {
    "name": "ipython",
    "version": 2
   },
   "file_extension": ".py",
   "mimetype": "text/x-python",
   "name": "python",
   "nbconvert_exporter": "python",
   "pygments_lexer": "ipython2",
   "version": "2.7.14"
  }
 },
 "nbformat": 4,
 "nbformat_minor": 2
}
