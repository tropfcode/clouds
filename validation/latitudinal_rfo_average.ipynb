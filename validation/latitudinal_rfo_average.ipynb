{
 "cells": [
  {
   "cell_type": "markdown",
   "metadata": {},
   "source": [
    "# Calculating Latitudinal RFO Average\n",
    "\n",
    "To calculate latitudinal RFO, one does not need to calculate the weighted RFO which accounts for the overweighting of RFO near the poles in an Equal-Angle format.\n",
    "The calculation of mean RFO is confined to the a single latitude, therefore a standard average can be used.\n",
    "\n",
    "The only thing that needs special attention is what latitudes are averaged -- that is, at what latitudes do the data lie? The average is computed using the latitude from the middle of a gridbox.\n",
    "\n",
    "1. H1 data is created from 1x1 gridboxes, so the latitudes used to compute average RFO span from $89.5^{\\circ}N$ to $89.5^{\\circ}S$, starting at $89.5^{\\circ}N$ and incrementing one degree until the final latitude (i.e. $89.5^{\\circ}N$, $88.5^{\\circ}N$, etc.) \n",
    "\n",
    "2. H2 data is created from 2x2 gridboxes, so the latitudes span $89^{\\circ}N$ to $89^{\\circ}S$ incrementing by 2 degrees.\n",
    "\n",
    "3. D data was created from 2.5x2.5 gridboxes, so the latitudes span $88.75^{\\circ}N$ to $88.75^{\\circ}S$ incrementing by 2.5 degrees.\n",
    "\n",
    "Here, average latitudinal RFO will be calculated for the H1 dataset only."
   ]
  },
  {
   "cell_type": "code",
   "execution_count": 10,
   "metadata": {},
   "outputs": [
    {
     "name": "stdout",
     "output_type": "stream",
     "text": [
      "Using matplotlib backend: Qt5Agg\n"
     ]
    }
   ],
   "source": [
    "import os\n",
    "import gc\n",
    "import math\n",
    "import time\n",
    "import netCDF4\n",
    "import numpy as np\n",
    "import matplotlib as mpl\n",
    "import matplotlib.pyplot as plt\n",
    "from matplotlib.ticker import FormatStrFormatter\n",
    "%matplotlib"
   ]
  },
  {
   "cell_type": "markdown",
   "metadata": {},
   "source": [
    "### Load All Data"
   ]
  },
  {
   "cell_type": "code",
   "execution_count": 3,
   "metadata": {},
   "outputs": [],
   "source": [
    "# Load all H1 data\n",
    "path = '/media/dtropf/usb/H1_data/H1_'\n",
    "h1_data = np.zeros((12,12,360*180))\n",
    "years = [str(i) for i in range(1984, 2013)]\n",
    "for year in years:\n",
    "    tmpdata = np.load(path+year+'.npy')\n",
    "    h1_data[:,:,:] = h1_data[:,:,:]+tmpdata[:,:,:]\n",
    "    del tmpdata\n",
    "    gc.collect()"
   ]
  },
  {
   "cell_type": "markdown",
   "metadata": {},
   "source": [
    "### Normalize Data"
   ]
  },
  {
   "cell_type": "code",
   "execution_count": 4,
   "metadata": {},
   "outputs": [],
   "source": [
    "# H1 data\n",
    "h1_total = np.sum(np.sum(h1_data, axis=0),axis=0)\n",
    "h1_masked_total = np.ma.masked_where(h1_total<=0,h1_total)\n",
    "h1_masked = np.ma.masked_where(np.sum(h1_data,axis=0)<=0, np.sum(h1_data, axis=0))\n",
    "h1_normed = np.ma.zeros((12, 360*180))\n",
    "for i in range(12):\n",
    "    h1_normed[i,:] = h1_masked[i,:]/h1_masked_total"
   ]
  },
  {
   "cell_type": "markdown",
   "metadata": {},
   "source": [
    "### Calculate Average RFO for every Latitude for every WS"
   ]
  },
  {
   "cell_type": "code",
   "execution_count": 5,
   "metadata": {},
   "outputs": [],
   "source": [
    "latbox1 = np.arange(.5, 90, 1.0)\n",
    "lcontainer = []\n",
    "count = 0\n",
    "for i in range(12):\n",
    "    # Rotate so rows are latitude\n",
    "    tmp_map = np.rot90(h1_normed[i,:].reshape(360, 180))\n",
    "    avg_list = []\n",
    "    for row in tmp_map:\n",
    "        avg = np.mean(row)\n",
    "        avg_list.insert(0, avg)\n",
    "    lcontainer.append(avg_list)"
   ]
  },
  {
   "cell_type": "markdown",
   "metadata": {},
   "source": [
    "### Plot Average Latitudtinal RFO"
   ]
  },
  {
   "cell_type": "code",
   "execution_count": 26,
   "metadata": {},
   "outputs": [
    {
     "name": "stderr",
     "output_type": "stream",
     "text": [
      "/home/dtropf/anaconda3/envs/dask/lib/python3.6/site-packages/numpy/core/numeric.py:544: UserWarning: Warning: converting a masked element to nan.\n",
      "  return array(a, dtype, copy=False, order=order, subok=True)\n"
     ]
    }
   ],
   "source": [
    "fig, axes = plt.subplots(nrows=3,ncols=4, subplot_kw=dict(facecolor='white'))\n",
    "for j, ax in enumerate(axes.flatten()):\n",
    "    line1, = ax.plot(lcontainer[j], np.arange(0,90,.5), label='H1', color='blue')\n",
    "    degree = '$\\degree$'\n",
    "    ax.set_yticks([0, 21.5, 44, 65.5, 89])\n",
    "    ax.set_yticklabels([str(90)+degree+' S', str(45)+degree+' S',str(0)+degree,str(45)+degree+' N',str(90)+degree+' N'])\n",
    "    ax.set_title('WS '+str(j+1))\n",
    "    ax.grid()\n",
    "    ax.set_xlim(-.05, 1)\n",
    "    ax.xaxis.set_major_formatter(FormatStrFormatter('%.2f'))\n",
    "\n",
    "fig.suptitle('Average Latitudinal RFO', fontweight='extra bold', fontsize='xx-large')\n",
    "fig.legend(handles=(line1,), shadow=True, ncol=3, loc='upper center', bbox_to_anchor=(.5,.95), facecolor='darkgrey')\n",
    "plt.show()    "
   ]
  },
  {
   "cell_type": "code",
   "execution_count": null,
   "metadata": {},
   "outputs": [],
   "source": []
  },
  {
   "cell_type": "code",
   "execution_count": null,
   "metadata": {},
   "outputs": [],
   "source": []
  },
  {
   "cell_type": "code",
   "execution_count": null,
   "metadata": {},
   "outputs": [],
   "source": [
    "BELOW HERE WAS FOR SOME EXTRA STUFF GEORGE WANTED"
   ]
  },
  {
   "cell_type": "code",
   "execution_count": 3,
   "metadata": {},
   "outputs": [],
   "source": [
    "# Load all H1 data\n",
    "path = '/media/dtropf/usb/H2_data/H2_'\n",
    "h1_data = np.zeros((12,12,180*90))\n",
    "years = [str(i) for i in range(1984, 2013)]\n",
    "for year in years:\n",
    "    tmpdata = np.load(path+year+'.npy')\n",
    "    h1_data[:,:,:] = h1_data[:,:,:]+tmpdata[:,:,:]\n",
    "    del tmpdata\n",
    "    gc.collect()"
   ]
  },
  {
   "cell_type": "code",
   "execution_count": 4,
   "metadata": {},
   "outputs": [],
   "source": [
    "# H1 data\n",
    "h1_total = np.sum(np.sum(h1_data, axis=0),axis=0)\n",
    "h1_masked_total = np.ma.masked_where(h1_total<=0,h1_total)\n",
    "h1_masked = np.ma.masked_where(np.sum(h1_data,axis=0)<=0, np.sum(h1_data, axis=0))\n",
    "h1_normed = np.ma.zeros((12, 180*90))\n",
    "for i in range(12):\n",
    "    h1_normed[i,:] = h1_masked[i,:]/h1_masked_total"
   ]
  },
  {
   "cell_type": "code",
   "execution_count": 6,
   "metadata": {},
   "outputs": [],
   "source": [
    "latbox1 = np.arange(.5, 90, 1.0)\n",
    "lcontainer = []\n",
    "count = 0\n",
    "for i in range(12):\n",
    "    # Rotate so rows are latitude\n",
    "    tmp_map = np.rot90(h1_normed[i,:].reshape(180, 90))\n",
    "    avg_list = []\n",
    "    for row in tmp_map:\n",
    "        avg = np.mean(row)\n",
    "        avg_list.insert(0, avg)\n",
    "    lcontainer.append(avg_list)"
   ]
  },
  {
   "cell_type": "code",
   "execution_count": 8,
   "metadata": {},
   "outputs": [
    {
     "name": "stderr",
     "output_type": "stream",
     "text": [
      "/home/dtropf/anaconda3/envs/dask/lib/python3.6/site-packages/numpy/core/numeric.py:544: UserWarning: Warning: converting a masked element to nan.\n",
      "  return array(a, dtype, copy=False, order=order, subok=True)\n"
     ]
    },
    {
     "data": {
      "image/png": "[encoded data removed]",
      "text/plain": [
       "<matplotlib.figure.Figure at 0x7f91e8d48550>"
      ]
     },
     "metadata": {},
     "output_type": "display_data"
    }
   ],
   "source": [
    "fig, axes = plt.subplots(nrows=3,ncols=4, subplot_kw=dict(facecolor='white'))\n",
    "for j, ax in enumerate(axes.flatten()):\n",
    "    line1, = ax.plot(lcontainer[j], np.arange(0,90), label='H1', color='blue')\n",
    "    degree = '$\\degree$'\n",
    "    ax.set_yticks([0, 21.5, 44, 65.5, 89])\n",
    "    ax.set_yticklabels([str(90)+degree+' S', str(45)+degree+' S',str(0)+degree,str(45)+degree+' N',str(90)+degree+' N'])\n",
    "    ax.set_title('WS '+str(j+1))\n",
    "    ax.grid()\n",
    "    ax.set_xlim(-.05, 1)\n",
    "    ax.xaxis.set_major_formatter(FormatStrFormatter('%.2f'))\n",
    "\n",
    "fig.suptitle('Average Latitudinal RFO', fontweight='extra bold', fontsize='xx-large')\n",
    "fig.legend(handles=(line1,), shadow=True, ncol=3, loc='upper center', bbox_to_anchor=(.5,.95), facecolor='darkgrey')\n",
    "plt.show()    "
   ]
  },
  {
   "cell_type": "code",
   "execution_count": null,
   "metadata": {},
   "outputs": [],
   "source": []
  },
  {
   "cell_type": "code",
   "execution_count": 28,
   "metadata": {},
   "outputs": [
    {
     "name": "stderr",
     "output_type": "stream",
     "text": [
      "/home/dtropf/anaconda3/envs/dask/lib/python3.6/site-packages/numpy/core/numeric.py:544: UserWarning: Warning: converting a masked element to nan.\n",
      "  return array(a, dtype, copy=False, order=order, subok=True)\n",
      "/home/dtropf/anaconda3/envs/dask/lib/python3.6/site-packages/numpy/core/_methods.py:32: UserWarning: Warning: converting a masked element to nan.\n",
      "  return umr_sum(a, axis, dtype, out, keepdims)\n"
     ]
    }
   ],
   "source": [
    "colors = ['mediumturquoise', 'mediumblue', 'indianred', 'darkorchid', 'darkseagreen',\n",
    "         'darkorange', 'indigo', 'crimson', 'olive', 'black', 'teal', 'steelblue']\n",
    "fig, ax = plt.subplots(subplot_kw=dict(facecolor='white'))\n",
    "handles = [None for i in range(10)]\n",
    "for j in range(10):\n",
    "    if j == 8:\n",
    "        #tmp = np.zeros((len(lcontainer[j])))\n",
    "        #for v in range(8,11):\n",
    "        #    tmp1 = lcontainer[v]\n",
    "        #    tmp = tmp + tmp1\n",
    "            \n",
    "        tmp = [lcontainer[v] for v in range(8, 11)]\n",
    "        l = np.sum(tmp, axis=0)\n",
    "        #l = tmp\n",
    "    elif j < 8:\n",
    "        l = lcontainer[j]\n",
    "    else:\n",
    "        l = lcontainer[11]\n",
    "    if j== 8:\n",
    "        handles[j], = ax.plot(np.arange(0,90), l, label='SUM of WS 9,10,11', color=colors[j], lw=4)\n",
    "    elif j < 8:\n",
    "        handles[j], = ax.plot(np.arange(0,90), l, label='WS '+str(j+1), color=colors[j], lw=4)\n",
    "    else:\n",
    "        handles[j], = ax.plot(np.arange(0,90), l, label='WS '+str(12), color=colors[j], lw=4)\n",
    "    \n",
    "degree = '$\\degree$'\n",
    "ax.set_xticks([0, 21.5, 44, 65.5, 89.5])\n",
    "ax.set_xticklabels([str(90)+degree+' S', str(45)+degree+' S',str(0)+degree,str(45)+degree+' N',str(90)+degree+' N'])\n",
    "#ax.set_title('WS '+str(j+1))\n",
    "ax.set_xlabel('Latitude', size= 'xx-large', weight='extra bold')\n",
    "ax.set_ylabel('RFO', size= 'xx-large', weight='extra bold')\n",
    "ax.grid()\n",
    "ax.set_ylim(-.000, .55)\n",
    "ax.set_xlim(-.005,89)\n",
    "ax.set_yticks([(0),(.10), (.20), (.30), (.40), (.50), (.55)])\n",
    "ax.yaxis.set_major_formatter(FormatStrFormatter('%.2f'))\n",
    "\n",
    "fig.suptitle('WS Average Latitudinal RFO for H2 Dataset', fontweight='extra bold', fontsize='xx-large')\n",
    "fig.legend(handles=handles, shadow=True, ncol=12, loc='upper center', bbox_to_anchor=(.5,.95), facecolor='silver')\n",
    "plt.show()    "
   ]
  },
  {
   "cell_type": "code",
   "execution_count": 27,
   "metadata": {},
   "outputs": [
    {
     "name": "stderr",
     "output_type": "stream",
     "text": [
      "/home/dtropf/anaconda3/envs/dask/lib/python3.6/site-packages/numpy/core/numeric.py:544: UserWarning: Warning: converting a masked element to nan.\n",
      "  return array(a, dtype, copy=False, order=order, subok=True)\n"
     ]
    }
   ],
   "source": [
    "colors = ['mediumturquoise', 'mediumblue', 'indianred', 'darkorchid', 'darkseagreen',\n",
    "         'darkorange', 'indigo', 'crimson', 'olive', 'black', 'teal', 'steelblue']\n",
    "fig, ax = plt.subplots(subplot_kw=dict(facecolor='white'))\n",
    "handles = [None for i in range(12)]\n",
    "for j in range(12):\n",
    "    handles[j], = ax.plot(np.arange(0,90), lcontainer[j], label='WS '+str(j+1), color=colors[j], lw=4)\n",
    "    \n",
    "degree = '$\\degree$'\n",
    "ax.set_xticks([0, 21.5, 44, 65.5, 89.5])\n",
    "ax.set_xticklabels([str(90)+degree+' S', str(45)+degree+' S',str(0)+degree,str(45)+degree+' N',str(90)+degree+' N'])\n",
    "#ax.set_title('WS '+str(j+1))\n",
    "ax.set_xlabel('Latitude', size= 'xx-large', weight='extra bold')\n",
    "ax.set_ylabel('RFO', size= 'xx-large', weight='extra bold')\n",
    "ax.grid()\n",
    "ax.set_ylim(-.000, .55)\n",
    "ax.set_xlim(-.005,89)\n",
    "ax.set_yticks([(0),(.10), (.20), (.30), (.40), (.50), (.55)])\n",
    "ax.yaxis.set_major_formatter(FormatStrFormatter('%.2f'))\n",
    "\n",
    "fig.suptitle('WS Average Latitudinal RFO for H2 Dataset', fontweight='extra bold', fontsize='xx-large')\n",
    "fig.legend(handles=handles, shadow=True, ncol=12, loc='upper center', bbox_to_anchor=(.5,.95), facecolor='silver')\n",
    "plt.show()    "
   ]
  },
  {
   "cell_type": "code",
   "execution_count": null,
   "metadata": {},
   "outputs": [],
   "source": []
  }
 ],
 "metadata": {
  "kernelspec": {
   "display_name": "Python 3",
   "language": "python",
   "name": "python3"
  },
  "language_info": {
   "codemirror_mode": {
    "name": "ipython",
    "version": 3
   },
   "file_extension": ".py",
   "mimetype": "text/x-python",
   "name": "python",
   "nbconvert_exporter": "python",
   "pygments_lexer": "ipython3",
   "version": "3.6.4"
  }
 },
 "nbformat": 4,
 "nbformat_minor": 2
}
