{
 "cells": [
  {
   "cell_type": "markdown",
   "metadata": {},
   "source": [
    "# H2 Weathermap Creation\n",
    "\n",
    "The creation of weathermaps for H2 dataset is identical in nearly every way. The only differences relate to the size of the H2 data. For example, when reshaping the data, it will be reshaped to (180, 90) and not (360, 180) etc.\n",
    "See `h1_wsmaps.ipynb` for all the details in the creation of these maps."
   ]
  },
  {
   "cell_type": "code",
   "execution_count": 2,
   "metadata": {},
   "outputs": [
    {
     "name": "stdout",
     "output_type": "stream",
     "text": [
      "Using matplotlib backend: Qt5Agg\n"
     ]
    }
   ],
   "source": [
    "import os\n",
    "import gc\n",
    "import rfo\n",
    "import time\n",
    "import netCDF4\n",
    "import numpy as np\n",
    "import matplotlib as mpl\n",
    "import cartopy.crs as ccrs\n",
    "import matplotlib.pyplot as plt\n",
    "from cartopy.mpl.geoaxes import GeoAxes\n",
    "from mpl_toolkits.axes_grid1 import AxesGrid\n",
    "from matplotlib.ticker import FormatStrFormatter, FixedFormatter\n",
    "from cartopy.mpl.ticker import LongitudeFormatter, LatitudeFormatter\n",
    "%matplotlib"
   ]
  },
  {
   "cell_type": "code",
   "execution_count": 3,
   "metadata": {},
   "outputs": [],
   "source": [
    "# Find path where data is located, initialize empty array to store data, \n",
    "# and determine how many years of data to plot\n",
    "path = '/run/media/dtropf/Seagate Backup Plus Drive/H2_data/H2_'\n",
    "data = np.zeros((12,12,180*90))\n",
    "years = [str(i) for i in range(1984, 2013)]\n",
    "\n",
    "# Open a year of data at a time, add to the running total, and free memory\n",
    "# to load next year of data\n",
    "for year in years:\n",
    "    h1data = np.load(path+year+'.npy')\n",
    "    data[:,:,:] = data[:,:,:]+h1data[:,:,:]\n",
    "    del h1data\n",
    "    gc.collect()"
   ]
  },
  {
   "cell_type": "code",
   "execution_count": 4,
   "metadata": {},
   "outputs": [],
   "source": [
    "# Total gridbox count. Data summed along temporal and WS axis'.\n",
    "total_data = np.sum(np.sum(data,axis=0),axis=0)\n",
    "\n",
    "# Masked version of total_data used to find and ignore gridboxes without counts\n",
    "masked_total = np.ma.masked_where(total_data<=0, total_data)\n",
    "\n",
    "# Masked data summed along temporal axis. This ignores gridboxes without counts\n",
    "# and obtains counts for gridboxes of each WS\n",
    "masked_data = np.ma.masked_where(np.sum(data,axis=0)<=0, np.sum(data,axis=0))\n",
    "\n",
    "# Intialize new array which stores the masked_data in RFO\n",
    "# form by dividing each WS of masked_data by total_data\n",
    "normed_data = np.ma.zeros((12,180*90))\n",
    "for i in range(12):\n",
    "    normed_data[i,:] = masked_data[i,:]/total_data"
   ]
  },
  {
   "cell_type": "code",
   "execution_count": 6,
   "metadata": {},
   "outputs": [],
   "source": [
    "# Create custom colorbar\n",
    "cf = open('cmap3.txt')\n",
    "clist = [\"\"+cnum+\"\" for cnum in cf.read().splitlines()]\n",
    "cm = mpl.colors.LinearSegmentedColormap.from_list('custom', clist, N=256)\n",
    "vmin = np.amin(normed_data)\n",
    "vmax = np.amax(normed_data)*.7\n",
    "norm = mpl.colors.Normalize(vmin=vmin, vmax=vmax)"
   ]
  },
  {
   "cell_type": "code",
   "execution_count": 7,
   "metadata": {},
   "outputs": [
    {
     "name": "stderr",
     "output_type": "stream",
     "text": [
      "/home/dtropf/anaconda3/envs/cartopyTest/lib/python3.6/site-packages/matplotlib/figure.py:2022: UserWarning: This figure includes Axes that are not compatible with tight_layout, so results might be incorrect.\n",
      "  warnings.warn(\"This figure includes Axes that are not compatible \"\n"
     ]
    }
   ],
   "source": [
    "# Compute RFO for each WS\n",
    "rfo_list = [rfo.weighted_rfo(data) for data in normed_data]\n",
    "\n",
    "# Use Cartopy and plot H2 data\n",
    "projection = ccrs.PlateCarree(central_longitude=180)\n",
    "axes_class = (GeoAxes, dict(map_projection=projection))\n",
    "\n",
    "fig = plt.figure(figsize=(10,5.5))\n",
    "axgr = AxesGrid(fig, 111, axes_class=axes_class,\n",
    "                nrows_ncols=(4, 3),\n",
    "                axes_pad=0.6,\n",
    "                cbar_pad=0.0,\n",
    "                cbar_size='3%',\n",
    "                cbar_mode = 'single',\n",
    "                cbar_location = 'bottom',\n",
    "                label_mode='', aspect='equal')  # note the empty label_mode\n",
    "\n",
    "lats = np.arange(-90, 90)\n",
    "lons = np.arange(-180, 180)\n",
    "\n",
    "for i, ax in enumerate(axgr):\n",
    "    ax.set_xticks(np.linspace(-180, 180, 5), crs=projection)\n",
    "    ax.set_yticks(np.linspace(-90, 90, 5), crs=projection)\n",
    "    lon_formatter = LongitudeFormatter(zero_direction_label=True)\n",
    "    lat_formatter = LatitudeFormatter()\n",
    "    ax.xaxis.set_major_formatter(lon_formatter)\n",
    "    ax.yaxis.set_major_formatter(lat_formatter)\n",
    "    ax.coastlines()\n",
    "    ax.set_global()\n",
    "    ax.set_title('WS '+str(i+1)+' RFO '+'{:.1f}%'.format(rfo_list[i]*100))\n",
    "    extent=[-180,180,-90,90]\n",
    "    im = ax.imshow((normed_data[i,:].reshape(180,90).T), cmap=cm, norm=norm, transform=projection, interpolation='none', extent=extent)\n",
    "\n",
    "axgr.cbar_axes[0].colorbar(im)\n",
    "xticks = [0,.2,.4,.6,vmax]\n",
    "axgr.cbar_axes[0].set_xticks(xticks)\n",
    "xticks = ['{:.2f}'.format(tick) for tick in xticks]\n",
    "axgr.cbar_axes[0].xaxis.set_major_formatter(FixedFormatter(xticks))\n",
    "fig.suptitle(\"H2 WS Maps\", fontweight='extra bold', fontsize='x-large')\n",
    "fig.tight_layout()\n",
    "plt.show()"
   ]
  },
  {
   "cell_type": "code",
   "execution_count": null,
   "metadata": {},
   "outputs": [],
   "source": []
  }
 ],
 "metadata": {
  "kernelspec": {
   "display_name": "Python 3",
   "language": "python",
   "name": "python3"
  },
  "language_info": {
   "codemirror_mode": {
    "name": "ipython",
    "version": 3
   },
   "file_extension": ".py",
   "mimetype": "text/x-python",
   "name": "python",
   "nbconvert_exporter": "python",
   "pygments_lexer": "ipython3",
   "version": "3.6.4"
  }
 },
 "nbformat": 4,
 "nbformat_minor": 2
}
