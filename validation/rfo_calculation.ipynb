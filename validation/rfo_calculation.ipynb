{
 "cells": [
  {
   "cell_type": "markdown",
   "metadata": {},
   "source": [
    "# RFO\n",
    "\n",
    "Relative Requency of Occurance (RFO) for a WS is calculated as:\n",
    "\n",
    "$RFO = \\frac{\\text{Gridbox counts for single WS}}{\\text{Gridbox counts across all WS}}$\n",
    "\n",
    "RFO tells us how much of a given WS makes up the total data. \n",
    "\n",
    "# RFO for Equal Area Map\n",
    "\n",
    "As seen in `h1_wsmaps.ipynb`, the calculation above is done across all data for every gridbox. Plotting the result is fine and accurate -- however, we are also interested in the RFO on a global scale, not just gridbox by gridbox. To do this, it would make sense to add up the gridbox counts for each WS and divide by the total counts across all WS'. This is technically incorrect because the maps are in Equal-Area format. This would incorrectly give an area in the north pole equal weight to an area near the equator, giving an inaccurate RFO.\n",
    "\n",
    "To handle this issue, global RFO, or $RFO_{weight}$, is calculated a different way. First, create the WS maps as done in `h1_wsmaps.ipynb` such that each gridbox, or cell of the resulting array/map, is an RFO value for that gridbox. Next, define the following equation: \n",
    "\n",
    "$$RFO_{weight} = \\frac{\\sum_{\\theta=lat} \\cos{\\theta}*E(\\theta)}{\\sum_{\\theta=lat} \\cos{\\theta}}$$\n",
    "\n",
    "where $E(\\theta)$ is the expected value, or average, gridbox RFO across an entire latitude given by angle $\\theta$. \n",
    "Running every WS map through this equation will produce a single number representing the global RFO for a given WS.\n",
    "\n",
    "Note that each gridbox is a square of dimension 1 degree by 1 degree (that can and will vary). As such, $\\theta$ will be the middle of each gridbox. This means the top most gridboxes bordering the north pole will have $\\theta = 89.5^{\\circ}$, followed by $\\theta = 88.5^{\\circ}$, $\\theta = 87.5^{\\circ}$, etc. until $\\theta = -89.5^{\\circ}$.\n",
    "\n",
    "The translation to code is below, along with an example of use. This function can be found in `api.py`."
   ]
  },
  {
   "cell_type": "code",
   "execution_count": 8,
   "metadata": {},
   "outputs": [],
   "source": [
    "import os\n",
    "import gc\n",
    "import math\n",
    "import numpy as np"
   ]
  },
  {
   "cell_type": "code",
   "execution_count": 1,
   "metadata": {},
   "outputs": [],
   "source": [
    "# Create function to compute Weighted RFO\n",
    "\n",
    "def rfo(maps):\n",
    "    \"\"\"\n",
    "    Compute total RFO of each WS for given data in \n",
    "    Equal-Area format.\n",
    "    \n",
    "    Attributes\n",
    "    ----------\n",
    "    maps: 2D numpy array\n",
    "        WS maps with gridbox in terms of RFO. Shape of (12, 64800).\n",
    "    \"\"\"\n",
    "    # Initialize emtpy list to hold RFO for each WS\n",
    "    totallist = []\n",
    "    \n",
    "    # List of latitudinal angles (middle of gridbox)\n",
    "    latbox = np.arange(.5, 90, 1.0)\n",
    "    \n",
    "    # Loop across each WS\n",
    "    for i in range(12):\n",
    "        total = 0\n",
    "        weightsum = 0\n",
    "        tmp_map = maps[i,:].reshape(360, 180)\n",
    "        # Top half of map (North Pole to Equator)\n",
    "        for j, lat in enumerate(latbox[::-1]):\n",
    "            # Check if all gridboxes are emtpy, if so skip\n",
    "            if np.all(tmp_map[:,j].mask):\n",
    "                continue\n",
    "            avg = np.mean(tmp_map[:,j])\n",
    "            total += avg*math.cos(math.radians(lat))\n",
    "            weightsum += math.cos(math.radians(lat))\n",
    "        # Bottom half of map (Equator to South Pole)\n",
    "        for j, lat in enumerate(latbox):\n",
    "            if np.all(tmp_map[:,(j+90)].mask):\n",
    "                continue\n",
    "            avg = np.mean(tmp_map[:,(j+90)])\n",
    "            total += avg*math.cos(math.radians(lat))\n",
    "            weightsum += math.cos(math.radians(lat))\n",
    "        totallist.append(total/(weightsum))\n",
    "    return totallist"
   ]
  },
  {
   "cell_type": "code",
   "execution_count": 6,
   "metadata": {},
   "outputs": [],
   "source": [
    "path = '/run/media/dtropf/Seagate Backup Plus Drive/validation/testing_03_04_2018/fortran_fnorm_new/H1_'\n",
    "data = np.zeros((12,12,360*180))\n",
    "years = [str(i) for i in range(1984, 2010)]\n",
    "\n",
    "for year in years:\n",
    "    h1data = np.load(path+year+'.npy')\n",
    "    data[:,:,:] = data[:,:,:]+h1data[:,:,:]\n",
    "    del h1data\n",
    "    gc.collect()\n",
    "    \n",
    "total_data = np.sum(np.sum(data,axis=0),axis=0)\n",
    "masked_total = np.ma.masked_where(total_data<=0, total_data)\n",
    "masked_data = np.ma.masked_where(np.sum(data,axis=0)<=0, np.sum(data,axis=0))\n",
    "normed_data = np.ma.zeros((12,360*180))\n",
    "for i in range(12):\n",
    "    normed_data[i,:] = masked_data[i,:]/total_data"
   ]
  },
  {
   "cell_type": "code",
   "execution_count": 10,
   "metadata": {},
   "outputs": [
    {
     "name": "stdout",
     "output_type": "stream",
     "text": [
      "[0.040695751977692325, 0.0752969732405213, 0.03669755822001327, 0.0575233103850647, 0.1074620579821253, 0.11319565830982359, 0.1996981188120116, 0.09333678071531365, 0.03522068253349227, 0.0669192809102082, 0.029291407024400702, 0.14842014483190277]\n",
      "1.0037577249425695\n"
     ]
    }
   ],
   "source": [
    "# Compute RFO for each global WS\n",
    "rfo_list = rfo(normed_data)\n",
    "\n",
    "# Print list of RFOs\n",
    "print(rfo_list)\n",
    "\n",
    "# Confirm that sum = 1\n",
    "print(sum(rfo_list))"
   ]
  }
 ],
 "metadata": {
  "kernelspec": {
   "display_name": "Python 3",
   "language": "python",
   "name": "python3"
  },
  "language_info": {
   "codemirror_mode": {
    "name": "ipython",
    "version": 3
   },
   "file_extension": ".py",
   "mimetype": "text/x-python",
   "name": "python",
   "nbconvert_exporter": "python",
   "pygments_lexer": "ipython3",
   "version": "3.6.4"
  }
 },
 "nbformat": 4,
 "nbformat_minor": 2
}
